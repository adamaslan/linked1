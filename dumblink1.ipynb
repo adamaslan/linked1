{
 "cells": [
  {
   "cell_type": "code",
   "execution_count": 2,
   "metadata": {},
   "outputs": [
    {
     "name": "stdout",
     "output_type": "stream",
     "text": [
      "Authorize here: https://www.linkedin.com/oauth/v2/authorization?response_type=code&client_id=your_client_id_here&redirect_uri=None&scope=w_member_social\n"
     ]
    },
    {
     "ename": "HTTPError",
     "evalue": "401 Client Error: Unauthorized for url: https://www.linkedin.com/oauth/v2/accessToken",
     "output_type": "error",
     "traceback": [
      "\u001b[0;31m---------------------------------------------------------------------------\u001b[0m",
      "\u001b[0;31mHTTPError\u001b[0m                                 Traceback (most recent call last)",
      "Cell \u001b[0;32mIn[2], line 82\u001b[0m\n\u001b[1;32m     80\u001b[0m \u001b[38;5;28;01mif\u001b[39;00m \u001b[38;5;18m__name__\u001b[39m \u001b[38;5;241m==\u001b[39m \u001b[38;5;124m'\u001b[39m\u001b[38;5;124m__main__\u001b[39m\u001b[38;5;124m'\u001b[39m:\n\u001b[1;32m     81\u001b[0m     post_text \u001b[38;5;241m=\u001b[39m \u001b[38;5;124m\"\u001b[39m\u001b[38;5;124mHello LinkedIn! This is my first post via API. #automation\u001b[39m\u001b[38;5;124m\"\u001b[39m\n\u001b[0;32m---> 82\u001b[0m     result \u001b[38;5;241m=\u001b[39m \u001b[43mcreate_post\u001b[49m\u001b[43m(\u001b[49m\u001b[43mpost_text\u001b[49m\u001b[43m)\u001b[49m\n\u001b[1;32m     83\u001b[0m     \u001b[38;5;28mprint\u001b[39m(\u001b[38;5;124m\"\u001b[39m\u001b[38;5;124mPost created:\u001b[39m\u001b[38;5;124m\"\u001b[39m, result)\n",
      "Cell \u001b[0;32mIn[2], line 51\u001b[0m, in \u001b[0;36mcreate_post\u001b[0;34m(text)\u001b[0m\n\u001b[1;32m     50\u001b[0m \u001b[38;5;28;01mdef\u001b[39;00m\u001b[38;5;250m \u001b[39m\u001b[38;5;21mcreate_post\u001b[39m(text):\n\u001b[0;32m---> 51\u001b[0m     access_token \u001b[38;5;241m=\u001b[39m \u001b[43mload_token\u001b[49m\u001b[43m(\u001b[49m\u001b[43m)\u001b[49m\n\u001b[1;32m     52\u001b[0m     headers \u001b[38;5;241m=\u001b[39m {\n\u001b[1;32m     53\u001b[0m         \u001b[38;5;124m'\u001b[39m\u001b[38;5;124mAuthorization\u001b[39m\u001b[38;5;124m'\u001b[39m: \u001b[38;5;124mf\u001b[39m\u001b[38;5;124m'\u001b[39m\u001b[38;5;124mBearer \u001b[39m\u001b[38;5;132;01m{\u001b[39;00maccess_token\u001b[38;5;132;01m}\u001b[39;00m\u001b[38;5;124m'\u001b[39m,\n\u001b[1;32m     54\u001b[0m         \u001b[38;5;124m'\u001b[39m\u001b[38;5;124mContent-Type\u001b[39m\u001b[38;5;124m'\u001b[39m: \u001b[38;5;124m'\u001b[39m\u001b[38;5;124mapplication/json\u001b[39m\u001b[38;5;124m'\u001b[39m,\n\u001b[1;32m     55\u001b[0m         \u001b[38;5;124m'\u001b[39m\u001b[38;5;124mX-Restli-Protocol-Version\u001b[39m\u001b[38;5;124m'\u001b[39m: \u001b[38;5;124m'\u001b[39m\u001b[38;5;124m2.0.0\u001b[39m\u001b[38;5;124m'\u001b[39m\n\u001b[1;32m     56\u001b[0m     }\n\u001b[1;32m     58\u001b[0m     \u001b[38;5;66;03m# Update with your LinkedIn URN (format: urn:li:person:{id})\u001b[39;00m\n",
      "Cell \u001b[0;32mIn[2], line 46\u001b[0m, in \u001b[0;36mload_token\u001b[0;34m()\u001b[0m\n\u001b[1;32m     44\u001b[0m \u001b[38;5;28;01mif\u001b[39;00m \u001b[38;5;129;01mnot\u001b[39;00m os\u001b[38;5;241m.\u001b[39mpath\u001b[38;5;241m.\u001b[39mexists(TOKEN_FILE):\n\u001b[1;32m     45\u001b[0m     code \u001b[38;5;241m=\u001b[39m get_auth_code()\n\u001b[0;32m---> 46\u001b[0m     \u001b[38;5;28;01mreturn\u001b[39;00m \u001b[43mget_access_token\u001b[49m\u001b[43m(\u001b[49m\u001b[43mcode\u001b[49m\u001b[43m)\u001b[49m\n\u001b[1;32m     47\u001b[0m \u001b[38;5;28;01mwith\u001b[39;00m \u001b[38;5;28mopen\u001b[39m(TOKEN_FILE, \u001b[38;5;124m'\u001b[39m\u001b[38;5;124mr\u001b[39m\u001b[38;5;124m'\u001b[39m) \u001b[38;5;28;01mas\u001b[39;00m f:\n\u001b[1;32m     48\u001b[0m     \u001b[38;5;28;01mreturn\u001b[39;00m f\u001b[38;5;241m.\u001b[39mread()\n",
      "Cell \u001b[0;32mIn[2], line 37\u001b[0m, in \u001b[0;36mget_access_token\u001b[0;34m(code)\u001b[0m\n\u001b[1;32m     29\u001b[0m data \u001b[38;5;241m=\u001b[39m {\n\u001b[1;32m     30\u001b[0m     \u001b[38;5;124m'\u001b[39m\u001b[38;5;124mgrant_type\u001b[39m\u001b[38;5;124m'\u001b[39m: \u001b[38;5;124m'\u001b[39m\u001b[38;5;124mauthorization_code\u001b[39m\u001b[38;5;124m'\u001b[39m,\n\u001b[1;32m     31\u001b[0m     \u001b[38;5;124m'\u001b[39m\u001b[38;5;124mcode\u001b[39m\u001b[38;5;124m'\u001b[39m: code,\n\u001b[0;32m   (...)\u001b[0m\n\u001b[1;32m     34\u001b[0m     \u001b[38;5;124m'\u001b[39m\u001b[38;5;124mclient_secret\u001b[39m\u001b[38;5;124m'\u001b[39m: CLIENT_SECRET\n\u001b[1;32m     35\u001b[0m }\n\u001b[1;32m     36\u001b[0m response \u001b[38;5;241m=\u001b[39m requests\u001b[38;5;241m.\u001b[39mpost(TOKEN_URL, data\u001b[38;5;241m=\u001b[39mdata)\n\u001b[0;32m---> 37\u001b[0m \u001b[43mresponse\u001b[49m\u001b[38;5;241;43m.\u001b[39;49m\u001b[43mraise_for_status\u001b[49m\u001b[43m(\u001b[49m\u001b[43m)\u001b[49m\n\u001b[1;32m     38\u001b[0m token_data \u001b[38;5;241m=\u001b[39m response\u001b[38;5;241m.\u001b[39mjson()\n\u001b[1;32m     39\u001b[0m \u001b[38;5;28;01mwith\u001b[39;00m \u001b[38;5;28mopen\u001b[39m(TOKEN_FILE, \u001b[38;5;124m'\u001b[39m\u001b[38;5;124mw\u001b[39m\u001b[38;5;124m'\u001b[39m) \u001b[38;5;28;01mas\u001b[39;00m f:\n",
      "File \u001b[0;32m/opt/homebrew/Caskroom/miniforge/base/envs/lightrag/lib/python3.10/site-packages/requests/models.py:1024\u001b[0m, in \u001b[0;36mResponse.raise_for_status\u001b[0;34m(self)\u001b[0m\n\u001b[1;32m   1019\u001b[0m     http_error_msg \u001b[38;5;241m=\u001b[39m (\n\u001b[1;32m   1020\u001b[0m         \u001b[38;5;124mf\u001b[39m\u001b[38;5;124m\"\u001b[39m\u001b[38;5;132;01m{\u001b[39;00m\u001b[38;5;28mself\u001b[39m\u001b[38;5;241m.\u001b[39mstatus_code\u001b[38;5;132;01m}\u001b[39;00m\u001b[38;5;124m Server Error: \u001b[39m\u001b[38;5;132;01m{\u001b[39;00mreason\u001b[38;5;132;01m}\u001b[39;00m\u001b[38;5;124m for url: \u001b[39m\u001b[38;5;132;01m{\u001b[39;00m\u001b[38;5;28mself\u001b[39m\u001b[38;5;241m.\u001b[39murl\u001b[38;5;132;01m}\u001b[39;00m\u001b[38;5;124m\"\u001b[39m\n\u001b[1;32m   1021\u001b[0m     )\n\u001b[1;32m   1023\u001b[0m \u001b[38;5;28;01mif\u001b[39;00m http_error_msg:\n\u001b[0;32m-> 1024\u001b[0m     \u001b[38;5;28;01mraise\u001b[39;00m HTTPError(http_error_msg, response\u001b[38;5;241m=\u001b[39m\u001b[38;5;28mself\u001b[39m)\n",
      "\u001b[0;31mHTTPError\u001b[0m: 401 Client Error: Unauthorized for url: https://www.linkedin.com/oauth/v2/accessToken"
     ]
    }
   ],
   "source": [
    "import os\n",
    "import requests\n",
    "from dotenv import load_dotenv\n",
    "\n",
    "load_dotenv()\n",
    "\n",
    "# Configuration\n",
    "CLIENT_ID = os.getenv('LINKEDIN_CLIENT_ID')\n",
    "CLIENT_SECRET = os.getenv('LINKEDIN_CLIENT_SECRET')\n",
    "REDIRECT_URI = os.getenv('REDIRECT_URI')\n",
    "TOKEN_FILE = 'linkedin_token.txt'\n",
    "\n",
    "# LinkedIn API endpoints\n",
    "AUTH_URL = 'https://www.linkedin.com/oauth/v2/authorization'\n",
    "TOKEN_URL = 'https://www.linkedin.com/oauth/v2/accessToken'\n",
    "POST_URL = 'https://api.linkedin.com/v2/ugcPosts'\n",
    "\n",
    "def get_auth_code():\n",
    "    params = {\n",
    "        'response_type': 'code',\n",
    "        'client_id': CLIENT_ID,\n",
    "        'redirect_uri': REDIRECT_URI,\n",
    "        'scope': 'w_member_social'\n",
    "    }\n",
    "    print(f\"Authorize here: {AUTH_URL}?{'&'.join([f'{k}={v}' for k, v in params.items()])}\")\n",
    "    return input(\"Enter authorization code: \")\n",
    "\n",
    "def get_access_token(code):\n",
    "    data = {\n",
    "        'grant_type': 'authorization_code',\n",
    "        'code': code,\n",
    "        'redirect_uri': REDIRECT_URI,\n",
    "        'client_id': CLIENT_ID,\n",
    "        'client_secret': CLIENT_SECRET\n",
    "    }\n",
    "    response = requests.post(TOKEN_URL, data=data)\n",
    "    response.raise_for_status()\n",
    "    token_data = response.json()\n",
    "    with open(TOKEN_FILE, 'w') as f:\n",
    "        f.write(token_data['access_token'])\n",
    "    return token_data['access_token']\n",
    "\n",
    "def load_token():\n",
    "    if not os.path.exists(TOKEN_FILE):\n",
    "        code = get_auth_code()\n",
    "        return get_access_token(code)\n",
    "    with open(TOKEN_FILE, 'r') as f:\n",
    "        return f.read()\n",
    "\n",
    "def create_post(text):\n",
    "    access_token = load_token()\n",
    "    headers = {\n",
    "        'Authorization': f'Bearer {access_token}',\n",
    "        'Content-Type': 'application/json',\n",
    "        'X-Restli-Protocol-Version': '2.0.0'\n",
    "    }\n",
    "    \n",
    "    # Update with your LinkedIn URN (format: urn:li:person:{id})\n",
    "    author_urn = 'urn:li:person:YOUR_MEMBER_ID'  \n",
    "    \n",
    "    post_data = {\n",
    "        \"author\": author_urn,\n",
    "        \"lifecycleState\": \"PUBLISHED\",\n",
    "        \"specificContent\": {\n",
    "            \"com.linkedin.ugc.ShareContent\": {\n",
    "                \"shareCommentary\": {\n",
    "                    \"text\": text\n",
    "                },\n",
    "                \"shareMediaCategory\": \"NONE\"\n",
    "            }\n",
    "        },\n",
    "        \"visibility\": {\n",
    "            \"com.linkedin.ugc.MemberNetworkVisibility\": \"PUBLIC\"\n",
    "        }\n",
    "    }\n",
    "    \n",
    "    response = requests.post(POST_URL, headers=headers, json=post_data)\n",
    "    return response.json()\n",
    "\n",
    "if __name__ == '__main__':\n",
    "    post_text = \"Hello LinkedIn! This is my first post via API. #automation\"\n",
    "    result = create_post(post_text)\n",
    "    print(\"Post created:\", result)"
   ]
  }
 ],
 "metadata": {
  "kernelspec": {
   "display_name": "lightrag",
   "language": "python",
   "name": "python3"
  },
  "language_info": {
   "codemirror_mode": {
    "name": "ipython",
    "version": 3
   },
   "file_extension": ".py",
   "mimetype": "text/x-python",
   "name": "python",
   "nbconvert_exporter": "python",
   "pygments_lexer": "ipython3",
   "version": "3.10.16"
  }
 },
 "nbformat": 4,
 "nbformat_minor": 2
}
